{
 "metadata": {
  "language_info": {
   "codemirror_mode": {
    "name": "ipython",
    "version": 3
   },
   "file_extension": ".py",
   "mimetype": "text/x-python",
   "name": "python",
   "nbconvert_exporter": "python",
   "pygments_lexer": "ipython3",
   "version": "3.8.5-final"
  },
  "orig_nbformat": 2,
  "kernelspec": {
   "name": "python3",
   "display_name": "Python 3.8.5 64-bit",
   "metadata": {
    "interpreter": {
     "hash": "7135096a941cda7f5b1b89199c40ba02928342c0cc4dfd797dd8c67a466b1755"
    }
   }
  }
 },
 "nbformat": 4,
 "nbformat_minor": 2,
 "cells": [
  {
   "source": [
    "import time\n",
    "#import matplotlib.pyplot as plt\n",
    "import numpy as np\n",
    "import pandas as pd\n",
    "\n",
    "from sklearn.model_selection import train_test_split\n",
    "from sklearn.utils import check_random_state"
   ],
   "cell_type": "code",
   "metadata": {},
   "execution_count": 1,
   "outputs": []
  },
  {
   "cell_type": "code",
   "execution_count": 2,
   "metadata": {},
   "outputs": [],
   "source": [
    "from sklearn.model_selection import cross_val_score\n",
    "from sklearn.model_selection import StratifiedKFold\n",
    "from sklearn.metrics import accuracy_score\n",
    "from sklearn.ensemble import RandomForestClassifier"
   ]
  },
  {
   "cell_type": "code",
   "execution_count": 4,
   "metadata": {},
   "outputs": [],
   "source": [
    "df = pd.read_csv(\"DATA4.csv\",header=None,)"
   ]
  },
  {
   "cell_type": "code",
   "execution_count": 131,
   "metadata": {},
   "outputs": [
    {
     "output_type": "execute_result",
     "data": {
      "text/plain": [
       "       0   1   2   3   4   5  6\n",
       "0    -60 -68   0   0 -66 -50  1\n",
       "1    -55 -67   0   0 -72 -50  1\n",
       "2    -55 -66 -83   0 -68 -54  1\n",
       "3    -55 -68 -78   0 -68 -53  1\n",
       "4    -52 -66 -85   0 -67 -55  1\n",
       "...   ..  ..  ..  ..  ..  .. ..\n",
       "1452 -48 -70 -75 -83 -79 -71  5\n",
       "1453 -46 -72 -75 -83 -78 -80  5\n",
       "1454 -50 -71 -75 -83 -83 -77  5\n",
       "1455 -51 -74 -75 -77 -78 -77  5\n",
       "1456 -52 -74 -75 -83 -78 -73  5\n",
       "\n",
       "[1457 rows x 7 columns]"
      ],
      "text/html": "<div>\n<style scoped>\n    .dataframe tbody tr th:only-of-type {\n        vertical-align: middle;\n    }\n\n    .dataframe tbody tr th {\n        vertical-align: top;\n    }\n\n    .dataframe thead th {\n        text-align: right;\n    }\n</style>\n<table border=\"1\" class=\"dataframe\">\n  <thead>\n    <tr style=\"text-align: right;\">\n      <th></th>\n      <th>0</th>\n      <th>1</th>\n      <th>2</th>\n      <th>3</th>\n      <th>4</th>\n      <th>5</th>\n      <th>6</th>\n    </tr>\n  </thead>\n  <tbody>\n    <tr>\n      <th>0</th>\n      <td>-60</td>\n      <td>-68</td>\n      <td>0</td>\n      <td>0</td>\n      <td>-66</td>\n      <td>-50</td>\n      <td>1</td>\n    </tr>\n    <tr>\n      <th>1</th>\n      <td>-55</td>\n      <td>-67</td>\n      <td>0</td>\n      <td>0</td>\n      <td>-72</td>\n      <td>-50</td>\n      <td>1</td>\n    </tr>\n    <tr>\n      <th>2</th>\n      <td>-55</td>\n      <td>-66</td>\n      <td>-83</td>\n      <td>0</td>\n      <td>-68</td>\n      <td>-54</td>\n      <td>1</td>\n    </tr>\n    <tr>\n      <th>3</th>\n      <td>-55</td>\n      <td>-68</td>\n      <td>-78</td>\n      <td>0</td>\n      <td>-68</td>\n      <td>-53</td>\n      <td>1</td>\n    </tr>\n    <tr>\n      <th>4</th>\n      <td>-52</td>\n      <td>-66</td>\n      <td>-85</td>\n      <td>0</td>\n      <td>-67</td>\n      <td>-55</td>\n      <td>1</td>\n    </tr>\n    <tr>\n      <th>...</th>\n      <td>...</td>\n      <td>...</td>\n      <td>...</td>\n      <td>...</td>\n      <td>...</td>\n      <td>...</td>\n      <td>...</td>\n    </tr>\n    <tr>\n      <th>1452</th>\n      <td>-48</td>\n      <td>-70</td>\n      <td>-75</td>\n      <td>-83</td>\n      <td>-79</td>\n      <td>-71</td>\n      <td>5</td>\n    </tr>\n    <tr>\n      <th>1453</th>\n      <td>-46</td>\n      <td>-72</td>\n      <td>-75</td>\n      <td>-83</td>\n      <td>-78</td>\n      <td>-80</td>\n      <td>5</td>\n    </tr>\n    <tr>\n      <th>1454</th>\n      <td>-50</td>\n      <td>-71</td>\n      <td>-75</td>\n      <td>-83</td>\n      <td>-83</td>\n      <td>-77</td>\n      <td>5</td>\n    </tr>\n    <tr>\n      <th>1455</th>\n      <td>-51</td>\n      <td>-74</td>\n      <td>-75</td>\n      <td>-77</td>\n      <td>-78</td>\n      <td>-77</td>\n      <td>5</td>\n    </tr>\n    <tr>\n      <th>1456</th>\n      <td>-52</td>\n      <td>-74</td>\n      <td>-75</td>\n      <td>-83</td>\n      <td>-78</td>\n      <td>-73</td>\n      <td>5</td>\n    </tr>\n  </tbody>\n</table>\n<p>1457 rows × 7 columns</p>\n</div>"
     },
     "metadata": {},
     "execution_count": 131
    }
   ],
   "source": [
    "df"
   ]
  },
  {
   "cell_type": "code",
   "execution_count": 10,
   "metadata": {},
   "outputs": [
    {
     "output_type": "execute_result",
     "data": {
      "text/plain": [
       "array([1, 2, 3, 4, 5, 6, 7])"
      ]
     },
     "metadata": {},
     "execution_count": 10
    }
   ],
   "source": [
    "y=list(df.iloc[:,6])\n",
    "np.unique(y)"
   ]
  },
  {
   "cell_type": "code",
   "execution_count": 6,
   "metadata": {},
   "outputs": [],
   "source": [
    "X =df.iloc[:,0:6]"
   ]
  },
  {
   "cell_type": "code",
   "execution_count": 134,
   "metadata": {},
   "outputs": [
    {
     "output_type": "execute_result",
     "data": {
      "text/plain": [
       "(1457, 6)"
      ]
     },
     "metadata": {},
     "execution_count": 134
    }
   ],
   "source": [
    "X=np.array(X)\n",
    "X.shape"
   ]
  },
  {
   "cell_type": "code",
   "execution_count": 135,
   "metadata": {},
   "outputs": [],
   "source": [
    "y=np.array(y) #.astype(np.str)"
   ]
  },
  {
   "cell_type": "code",
   "execution_count": 136,
   "metadata": {},
   "outputs": [],
   "source": [
    "\n",
    "# Randomize the data\n",
    "random_state = check_random_state(1)\n",
    "\n",
    "permutation = random_state.permutation(X.shape[0])\n",
    "X = X[permutation]\n",
    "y = y[permutation]\n",
    "X = X.reshape((X.shape[0], -1))"
   ]
  },
  {
   "cell_type": "code",
   "execution_count": 137,
   "metadata": {},
   "outputs": [],
   "source": [
    "# Split to Train & Test data\n",
    "X_train, X_test, y_train, y_test = train_test_split(\n",
    "    X, y, test_size=0.1 ,random_state=1)"
   ]
  },
  {
   "cell_type": "code",
   "execution_count": 140,
   "metadata": {
    "tags": []
   },
   "outputs": [],
   "source": [
    "# create model\n",
    "\n",
    "r=RandomForestClassifier(max_depth=None,random_state=1,max_leaf_nodes=None,min_samples_split=2)"
   ]
  },
  {
   "cell_type": "code",
   "execution_count": 141,
   "metadata": {
    "tags": []
   },
   "outputs": [
    {
     "output_type": "stream",
     "name": "stdout",
     "text": [
      " 0.881755 (0.028255)\n"
     ]
    }
   ],
   "source": [
    "# cross validation\n",
    "results = []\n",
    "names = []\n",
    "\n",
    "kfold = StratifiedKFold(n_splits=10, random_state=1, shuffle=True) #10 groups each group of 12 rows(4 samples for each class) \n",
    "cv_results = cross_val_score(r, X_train, y_train, cv=kfold, scoring='accuracy')\n",
    "\t\n",
    "print(' %f (%f)' % ( cv_results.mean(), cv_results.std()))"
   ]
  },
  {
   "cell_type": "code",
   "execution_count": 153,
   "metadata": {
    "tags": []
   },
   "outputs": [
    {
     "output_type": "stream",
     "name": "stdout",
     "text": [
      "Test score with L2 penalty: 0.8973\n"
     ]
    }
   ],
   "source": [
    "# create model and Test it\n",
    "r.fit(X_train, y_train)\n",
    "score = r.score(X_test, y_test)\n",
    "\n",
    "print(\"Test score with L2 penalty: %.4f\" % score)"
   ]
  },
  {
   "cell_type": "code",
   "execution_count": 150,
   "metadata": {},
   "outputs": [],
   "source": [
    "from sklearn_porter import Porter\n",
    "porter = Porter(r, language='java')"
   ]
  },
  {
   "cell_type": "code",
   "execution_count": 151,
   "metadata": {},
   "outputs": [],
   "source": [
    "output = porter.export(embed_data=True)"
   ]
  },
  {
   "cell_type": "code",
   "execution_count": 152,
   "metadata": {},
   "outputs": [],
   "source": [
    "with open('RandomForestClassifier.java', 'w') as f:\n",
    "    f.write(output)"
   ]
  }
 ]
}